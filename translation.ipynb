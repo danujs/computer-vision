{
 "cells": [
  {
   "cell_type": "code",
   "execution_count": 1,
   "id": "5dd56814",
   "metadata": {},
   "outputs": [],
   "source": [
    "#Translations\n",
    "#This in an affine transform that simply shifts the position of an image.\n",
    "#Since in Google Colab cannot use cv.imshow() or cv2.imshow() function directly, we use google.colab.patches import cv2_imshow to display images.\n",
    "\n",
    "import cv2\n",
    "import numpy as np\n",
    "from google.colab.patches import cv2_imshow",
    "\n",
    "image = cv2.imread('riverMe.jpeg')\n",
    "\n",
    "#Store height and width of the image\n",
    "\n",
    "height, width = image.shape[:2]\n",
    "\n",
    "quarter_height, quarter_width = height/4, width/4\n",
    "\n",
    "#    | 1 0 Tx |\n",
    "# T =| 0 1 Ty |\n",
    "\n",
    "#T is our translation matrix\n",
    "T = np.float32([[1, 0, quarter_width],[0,1, quarter_height]])\n",
    "\n",
    "# We use cv2.warpAffine to transform the image using the matrix, T\n",
    "img_translation = cv2.warpAffine(image, T, (width, height))\n",
    "cv2_imshow(img_translation)\n",
    "cv2.waitKey()\n",
    "cv2.destroyAllWindows()"
   ]
  }
 ],
 "metadata": {
  "kernelspec": {
   "display_name": "Python 3 (ipykernel)",
   "language": "python",
   "name": "python3"
  },
  "language_info": {
   "codemirror_mode": {
    "name": "ipython",
    "version": 3
   },
   "file_extension": ".py",
   "mimetype": "text/x-python",
   "name": "python",
   "nbconvert_exporter": "python",
   "pygments_lexer": "ipython3",
   "version": "3.10.9"
  }
 },
 "nbformat": 4,
 "nbformat_minor": 5
}
