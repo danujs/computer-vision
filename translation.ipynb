# Translations
# This is an affine transform that simply shifts the position of an image
# We use cv2.warpAffine to implement these transformations

import cv2
import numpy as np

image = cv2.imread ('riverMe.jpeg')

# Store the height and width of the image

height, width = image.shape[:2]

quarter_height, quarter_width = height/4, width/ 4

#   / 1 0 Tx /
# T=/ 0 1 Ty /

# T is our translation matrix
T = np.float32([[1, 0, quarter_width],[0,1 , quarter_height]])

# We use warpAffine to transform the image using the matrix, T
img_translation = cv2.warpAffine(image, T, (width, height))
cv2.imshow('Translation', img_translation)
cv2.waitKey()
cv2.destroyAllWindows()

# If you want to find out the matrix, please uncomment the script below
# print (T)


